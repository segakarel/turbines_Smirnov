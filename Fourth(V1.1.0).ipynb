{
 "cells": [
  {
   "cell_type": "markdown",
   "id": "dcb6ef78-8502-48c5-95f6-fdbc9b76b729",
   "metadata": {},
   "source": [
    "# Смирнов Сергей ФПэ-01-22\n",
    "\n",
    "По аналогии с решением задач из практики, построить график зависимости $\\eta_{oi} = f(H_0)$ в диапазоне $H_0$ = (50 - 150) $\\frac {kJ}{kg}$. $\\eta_{ол}$ = 78%. $u = 160 m/s$. Все остальные переменные и условия принять такие же как на практическом занятии.\n"
   ]
  },
  {
   "cell_type": "code",
   "execution_count": 1,
   "id": "a60b8349-7004-413f-8605-41a074baeee2",
   "metadata": {},
   "outputs": [],
   "source": [
    "import iapws\n",
    "from iapws import IAPWS97 as gas\n",
    "\n",
    "MPa = 10 ** 6\n",
    "kPa = 10 ** 3\n",
    "unit = 1 / MPa\n",
    "to_kelvin = lambda x: x + 273.15 if x else None"
   ]
  },
  {
   "cell_type": "code",
   "execution_count": 6,
   "id": "413b6599-2bea-4f9c-9b99-f114cb0b094e",
   "metadata": {},
   "outputs": [],
   "source": [
    "def get_k_frictions(s_div_r, re):\n",
    "    return 2.5 * 10 ** (-2) * s_div_r ** 0.1 * re **(-0.2)\n",
    "    \n",
    "def get_friction_loss_pu(k, d, u_div_dummy_speed, F):\n",
    "    return k * d ** 2 * u_div_dummy_speed ** 3 / F \n",
    "    \n",
    "def get_ventilation_loss_pu(m, k, sin, e, u_div_dummy_speed):\n",
    "    first = k / sin\n",
    "    second = (1 - e) / e\n",
    "    third = u_div_dummy_speed ** 3\n",
    "    \n",
    "    return first * second * third * m\n",
    "    \n",
    "def get_segment_loss_pu(B, l, F, u_div_dummy_speed, blade_efficiency, segments):\n",
    "    first = 0.25 * B * l / F\n",
    "    second = u_div_dummy_speed * blade_efficiency * segments\n",
    "    return first * second\n",
    "    \n",
    "def compute_equal_gap(z, delta_r, mu_r, delta_a, mu_a):\n",
    "    first = 1 / (mu_a * delta_a) ** 2\n",
    "    second = z / (mu_r * delta_r) ** 2\n",
    "    return (first + second) ** (-0.5)\n",
    "\n",
    "import math\n",
    "\n",
    "def get_bandage_leak_loss_pu(d_shroud, delta_eq, F, dor, l, efficiency):\n",
    "    d_avg = d_shroud - l\n",
    "    \n",
    "    first = math.pi * d_shroud * delta_eq / F\n",
    "    second = dor + 1.8 * (l / d_avg)\n",
    "    \n",
    "    return first * (second) ** 0.5 * efficiency\n",
    "    \n",
    "def get_disk_leak_loss_pu(K, F, mu_r, mu_nozzle, F_nozzle, z, efficiency):\n",
    "    upper = mu_r * K * F * efficiency\n",
    "    lower = mu_nozzle * F_nozzle * z ** 0.5\n",
    "    return upper / lower  "
   ]
  },
  {
   "cell_type": "code",
   "execution_count": 7,
   "id": "30eaacb0-b933-4f62-876f-b4344d73cc88",
   "metadata": {},
   "outputs": [
    {
     "name": "stdout",
     "output_type": "stream",
     "text": [
      "[50000, 60000, 70000, 80000, 90000, 100000, 110000, 120000, 130000, 140000, 150000]\n"
     ]
    }
   ],
   "source": [
    "p = 5 * MPa\n",
    "t = to_kelvin(489)\n",
    "\n",
    "#H_0 = 81 * 1000\n",
    "H_0 = []\n",
    "for i in range(50,160,10):\n",
    "    H_0.append(i*1000)\n",
    "print(H_0)\n",
    "u = 160\n",
    "blade_efficiency = 0.78\n",
    "F1 = 0.025\n",
    "d_r = 1.09\n",
    "s_div_r = 0.2 "
   ]
  },
  {
   "cell_type": "code",
   "execution_count": 8,
   "id": "123901c4-63f8-40a5-90cc-77f5a6d6447b",
   "metadata": {},
   "outputs": [],
   "source": [
    "point = gas(P=p * unit, T=t)\n",
    "kinematic_viscosity = point.nu\n",
    "Re_number = u * d_r * 0.5 / kinematic_viscosity\n",
    "k_frictions = get_k_frictions(s_div_r, Re_number)"
   ]
  },
  {
   "cell_type": "code",
   "execution_count": 9,
   "id": "e19fa566-e974-4d4d-9bb9-c661b8731a8a",
   "metadata": {},
   "outputs": [],
   "source": [
    "#Дано для 2 части\n",
    "e = 0.8\n",
    "sin_alpha_1 = 0.225\n",
    "blade_width = 0.035\n",
    "blade_length = 0.035\n",
    "segments = 4"
   ]
  },
  {
   "cell_type": "code",
   "execution_count": 10,
   "id": "30eb0be6-7d05-478c-adab-c501b4bd317f",
   "metadata": {},
   "outputs": [],
   "source": [
    "# Дано для 3 части\n",
    "degree__of_reaction = 0.1\n",
    "\n",
    "z_bandage = 2\n",
    "delta_r_bandage = 1.17 / 1000\n",
    "delta_a_bandage = 4 / 1000\n",
    "\n",
    "z_rotor = 5\n",
    "d_leak_rotor = 0.36\n",
    "delta_leak_rotor = 0.4 / 1000\n",
    "F_leak_rotor = math.pi * d_leak_rotor * delta_leak_rotor\n",
    "mu_a = 0.5\n",
    "mu_r = 0.8\n",
    "delta_eq_bandage = compute_equal_gap(z_bandage, delta_r_bandage, mu_r, delta_a_bandage, mu_a)"
   ]
  },
  {
   "cell_type": "code",
   "execution_count": 11,
   "id": "000f0ba2-1903-4030-8c4b-3b85357d112f",
   "metadata": {},
   "outputs": [],
   "source": [
    "eff = []\n",
    "for i in range(len(H_0)):\n",
    "    dummy_speed = (2 * H_0[i]) ** 0.5\n",
    "    u_div_dummy_speed= u / dummy_speed\n",
    "\n",
    "    friction_loss_pu = get_friction_loss_pu(k_frictions, d_r, u_div_dummy_speed, F1)\n",
    "    #friction_loss = friction_loss_pu * H_0\n",
    "\n",
    "    ventilation_loss_pu = get_ventilation_loss_pu(\n",
    "        m=1,\n",
    "        k=0.065,\n",
    "        e=e,\n",
    "        u_div_dummy_speed=u_div_dummy_speed,\n",
    "        sin=sin_alpha_1\n",
    "    )\n",
    "\n",
    "    segment_loss_pu = get_segment_loss_pu(\n",
    "        B=blade_width,\n",
    "        l=blade_length,\n",
    "        F=F1,\n",
    "        u_div_dummy_speed=u_div_dummy_speed,\n",
    "        blade_efficiency=blade_efficiency,\n",
    "        segments=segments\n",
    "    )\n",
    "\n",
    "    partial_losses_pu = segment_loss_pu + ventilation_loss_pu\n",
    "    #partial_losses = H_0 * partial_losses_p\n",
    "\n",
    "\n",
    "    d_shroud = delta_r_bandage / 0.001 \n",
    "    bandage_leak_loss_pu = get_bandage_leak_loss_pu(\n",
    "        d_shroud=d_shroud,\n",
    "        delta_eq=delta_eq_bandage,\n",
    "        F=F1,\n",
    "        dor=degree__of_reaction,\n",
    "        l=blade_length,\n",
    "        efficiency=blade_efficiency\n",
    "    )\n",
    "    K_y = 1\n",
    "    mu_r_rotor = 0.8\n",
    "    mu_nozzle = 0.97\n",
    "    disk_leak_loss_pu = get_disk_leak_loss_pu(\n",
    "        K = K_y,\n",
    "        F = F_leak_rotor,\n",
    "        mu_r = mu_r_rotor,\n",
    "        mu_nozzle=mu_nozzle,\n",
    "        F_nozzle=F1,\n",
    "        z=z_rotor,\n",
    "        efficiency=blade_efficiency\n",
    "    )\n",
    "    leak_losses_pu = disk_leak_loss_pu + bandage_leak_loss_pu\n",
    "    #leak_losses = H_0 * leak_losses_pu\n",
    "    internal_efficiency = (blade_efficiency - friction_loss_pu - partial_losses_pu - leak_losses_pu) * 100\n",
    "    eff.append(internal_efficiency)"
   ]
  },
  {
   "cell_type": "code",
   "execution_count": 19,
   "id": "9dd7a36a-b9e1-46cc-9eb7-62a85e6ea821",
   "metadata": {},
   "outputs": [
    {
     "name": "stderr",
     "output_type": "stream",
     "text": [
      "<>:6: SyntaxWarning: invalid escape sequence '\\e'\n",
      "<>:6: SyntaxWarning: invalid escape sequence '\\e'\n",
      "C:\\Users\\Vait_\\AppData\\Local\\Temp\\ipykernel_8896\\1903766188.py:6: SyntaxWarning: invalid escape sequence '\\e'\n",
      "  plt.title(\"График зависимости $\\eta_{oi} = f(H_0)$\")\n"
     ]
    },
    {
     "data": {
      "image/png": "[encoded data removed]",
      "text/plain": [
       "<Figure size 640x480 with 1 Axes>"
      ]
     },
     "metadata": {},
     "output_type": "display_data"
    }
   ],
   "source": [
    "import matplotlib.pyplot as plt\n",
    "plt.xlabel(r\"$H_0$, Дж/кг \")\n",
    "plt.ylabel(r'$\\eta_{oi}$, %')\n",
    "plt.plot(H_0,eff, \"o\", color=\"blue\")\n",
    "plt.plot(H_0,eff, color=\"blue\")\n",
    "plt.title(\"График зависимости $\\eta_{oi} = f(H_0)$\")\n",
    "plt.show()"
   ]
  },
  {
   "cell_type": "code",
   "execution_count": null,
   "id": "629dd80d-d209-48ec-823d-d78a7ea02b9a",
   "metadata": {},
   "outputs": [],
   "source": []
  }
 ],
 "metadata": {
  "kernelspec": {
   "display_name": "Python 3 (ipykernel)",
   "language": "python",
   "name": "python3"
  },
  "language_info": {
   "codemirror_mode": {
    "name": "ipython",
    "version": 3
   },
   "file_extension": ".py",
   "mimetype": "text/x-python",
   "name": "python",
   "nbconvert_exporter": "python",
   "pygments_lexer": "ipython3",
   "version": "3.12.4"
  }
 },
 "nbformat": 4,
 "nbformat_minor": 5
}
